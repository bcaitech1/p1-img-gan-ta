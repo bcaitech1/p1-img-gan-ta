{
 "cells": [
  {
   "cell_type": "code",
   "execution_count": 1,
   "metadata": {},
   "outputs": [],
   "source": [
    "import os\n",
    "\n",
    "import pandas as pd\n",
    "import numpy as np\n",
    "\n",
    "from PIL import Image\n",
    "import random\n",
    "import matplotlib.pyplot as plt"
   ]
  },
  {
   "cell_type": "code",
   "execution_count": 2,
   "metadata": {},
   "outputs": [],
   "source": [
    "test_dir = '/opt/ml/input/data/eval'"
   ]
  },
  {
   "cell_type": "code",
   "execution_count": 3,
   "metadata": {},
   "outputs": [],
   "source": [
    "# meta 데이터와 이미지 경로를 불러옵니다.\n",
    "submission = pd.read_csv(os.path.join(test_dir, 'info.csv'))\n",
    "image_dir = os.path.join(test_dir, 'images')"
   ]
  },
  {
   "cell_type": "code",
   "execution_count": 1,
   "metadata": {},
   "outputs": [],
   "source": [
    "submission"
   ]
  },
  {
   "cell_type": "code",
   "execution_count": 2,
   "metadata": {},
   "outputs": [],
   "source": [
    "image_dir"
   ]
  },
  {
   "cell_type": "code",
   "execution_count": 7,
   "metadata": {},
   "outputs": [],
   "source": [
    "def show_images(test_images_iter, n=5, rows = 1, cols = 5, title = 'Default'):\n",
    "    plt.figure(figsize=(16,10))\n",
    "    plt.suptitle(title, fontsize = 16)\n",
    "#     sampleList = random.sample(paths, n)\n",
    "    \n",
    "    for k in range(n):\n",
    "        path = next(test_images_iter)\n",
    "        image = Image.open(path)\n",
    "        print(path.split(\"/\")[-1])\n",
    "        \n",
    "        # image = resize(image, (200, 200), anti_aliasing=True)\n",
    "\n",
    "        plt.subplot(rows, cols, k+1)\n",
    "        plt.imshow(image)\n",
    "        plt.axis('off')\n",
    "        \n",
    "#         print(submission[submission[\"ImageID\"] == path.split(\"/\")[-1]]['ans'])\n",
    "#         plt.title(\"label:%s\"%(submission[submission[\"ImageID\"] == path]['ans']))"
   ]
  },
  {
   "cell_type": "code",
   "execution_count": 8,
   "metadata": {},
   "outputs": [],
   "source": [
    "test_image_paths = []\n",
    "for path in submission['ImageID']:\n",
    "    test_image_paths.append(os.path.join(image_dir, path))"
   ]
  },
  {
   "cell_type": "code",
   "execution_count": 9,
   "metadata": {},
   "outputs": [],
   "source": [
    "test_images_iter = iter(test_image_paths)"
   ]
  },
  {
   "cell_type": "code",
   "execution_count": 3,
   "metadata": {},
   "outputs": [],
   "source": [
    "next(test_images_iter)"
   ]
  },
  {
   "cell_type": "code",
   "execution_count": 12,
   "metadata": {},
   "outputs": [],
   "source": [
    "show_images(test_images_iter, n=10, rows=2, cols= 5, title='Test Sample')"
   ]
  }
 ],
 "metadata": {
  "kernelspec": {
   "display_name": "Python 3",
   "language": "python",
   "name": "python3"
  },
  "language_info": {
   "codemirror_mode": {
    "name": "ipython",
    "version": 3
   },
   "file_extension": ".py",
   "mimetype": "text/x-python",
   "name": "python",
   "nbconvert_exporter": "python",
   "pygments_lexer": "ipython3",
   "version": "3.8.3"
  }
 },
 "nbformat": 4,
 "nbformat_minor": 5
}
