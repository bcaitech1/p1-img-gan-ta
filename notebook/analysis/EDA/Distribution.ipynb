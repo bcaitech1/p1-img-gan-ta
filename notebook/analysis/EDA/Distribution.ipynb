{
 "cells": [
  {
   "cell_type": "markdown",
   "metadata": {},
   "source": [
    "# Data Distribution"
   ]
  },
  {
   "cell_type": "code",
   "execution_count": 1,
   "metadata": {},
   "outputs": [],
   "source": [
    "import os\n",
    "import sys\n",
    "\n",
    "from glob import glob\n",
    "import numpy as np\n",
    "import pandas as pd\n",
    "from pandas import DataFrame as df\n",
    "import numpy as np\n",
    "import matplotlib.pyplot as plt\n",
    "import seaborn as sns\n",
    "import torchvision \n",
    "from tqdm.notebook import tqdm\n",
    "from PIL import Image"
   ]
  },
  {
   "cell_type": "code",
   "execution_count": 2,
   "metadata": {},
   "outputs": [],
   "source": [
    "df_train = pd.read_csv(\"/opt/ml/input/data/train/train.csv\")\n",
    "df_test = pd.read_csv(\"/opt/ml/input/data/eval/info.csv\")"
   ]
  },
  {
   "cell_type": "code",
   "execution_count": 2,
   "metadata": {},
   "outputs": [],
   "source": [
    "df_train"
   ]
  },
  {
   "cell_type": "code",
   "execution_count": 1,
   "metadata": {},
   "outputs": [],
   "source": [
    "df_test"
   ]
  },
  {
   "cell_type": "code",
   "execution_count": 1,
   "metadata": {},
   "outputs": [],
   "source": [
    "# 학습 데이터와 테스트 데이터의 수\n",
    "print(len(df_train) * 7)\n",
    "print(len(df_test))"
   ]
  },
  {
   "cell_type": "code",
   "execution_count": 2,
   "metadata": {},
   "outputs": [],
   "source": [
    "sns.set_theme(style=\"ticks\", color_codes=True)\n",
    "\n",
    "# train 데이터의 나이 분포 파악\n",
    "sns.catplot(y = \"age\", data = df_train)\n",
    "sns.catplot(x = \"gender\", y = \"age\",data = df_train)"
   ]
  },
  {
   "cell_type": "code",
   "execution_count": 3,
   "metadata": {},
   "outputs": [],
   "source": [
    "# 성별 분포도\n",
    "sns.distplot(df_train['age'])"
   ]
  },
  {
   "cell_type": "code",
   "execution_count": 4,
   "metadata": {},
   "outputs": [],
   "source": [
    "# 연령 분포\n",
    "from collections import defaultdict\n",
    "age_dict = defaultdict(int)\n",
    "\n",
    "fig, (ax1, ax2, ax3) = plt.subplots(1, 3, figsize = (16, 6))\n",
    "\n",
    "for age in df_train[\"age\"]:\n",
    "    age = int(age)\n",
    "    if age < 30:\n",
    "        age_dict[\"young\"] += 1\n",
    "    elif 30 <= age < 60:\n",
    "        age_dict[\"middle\"] += 1\n",
    "    else:\n",
    "        age_dict[\"old\"] += 1\n",
    "\n",
    "age_stat = df(data={'age' : ['young', 'middle', 'old'],\n",
    "                    'count' : [age_dict[\"young\"],age_dict[\"middle\"], age_dict[\"old\"]]},\n",
    "             columns = ['age', 'count']\n",
    "              )\n",
    "def func1(age):\n",
    "    age = int(age)\n",
    "    if age < 30:\n",
    "        return \"young\"\n",
    "    elif 30 <= age < 60:\n",
    "        return \"middle\"\n",
    "    else:\n",
    "        return \"old\"\n",
    "\n",
    "df_train[\"age_stat\"] = df_train[\"age\"].apply(lambda x : func1(x)) \n",
    "\n",
    "\n",
    "# 성별 분포 파악\n",
    "gender_dict = defaultdict(int)\n",
    "\n",
    "for gender in df_train[\"gender\"]:\n",
    "    if gender == \"female\":\n",
    "        gender_dict[\"female\"] += 1\n",
    "    else:\n",
    "        gender_dict[\"male\"] += 1\n",
    "    \n",
    "\n",
    "gender_stat = df(data={'gender' : ['female', 'male'],\n",
    "                    'count' : [gender_dict['female'], gender_dict['male']]},\n",
    "             columns = ['gender', 'count']\n",
    "              )\n",
    "\n",
    "def func2(x):\n",
    "    return 1\n",
    "\n",
    "df_train[\"gender_count\"] = df_train[\"gender\"].apply(lambda x : func2(x)) \n",
    "\n",
    "# 마스크 착용유무 파악\n",
    "wear_stat = df(data={'stat' : ['wear', 'incorrect', 'notwear'],\n",
    "                    'count' : [len(df_train) * 5,len(df_train),len(df_train)]},\n",
    "             columns = ['stat', 'count']\n",
    "              )\n",
    "wear_stat\n",
    "\n",
    "ax1.set_title(\"Age distribution\")\n",
    "ax2.set_title(\"Gender distribution\")\n",
    "ax3.set_title(\"mask distribution\")\n",
    "sns.barplot(x = \"age\", y = \"count\",data = age_stat,ax=ax1)\n",
    "sns.barplot(x = \"gender\", y = \"count\",data = gender_stat, ax = ax2)\n",
    "sns.barplot(x = \"stat\", y = \"count\",data = wear_stat, ax = ax3)"
   ]
  },
  {
   "cell_type": "code",
   "execution_count": 9,
   "metadata": {},
   "outputs": [],
   "source": [
    "df_train\n",
    "df_train2 = df_train.copy()\n",
    "df_train3 = df_train.copy()\n",
    "\n",
    "def func4(x):\n",
    "    return \"normal\"\n",
    "df_train2[\"mask\"] = df_train[\"gender\"].apply(lambda x : func4(x)) \n",
    "\n",
    "def func5(x):\n",
    "    return \"incorrect\"\n",
    "df_train3[\"mask\"] = df_train[\"gender\"].apply(lambda x : func5(x))\n",
    "\n",
    "train_total = pd.concat([df_train,df_train,df_train,df_train,df_train,df_train2,df_train3])"
   ]
  },
  {
   "cell_type": "code",
   "execution_count": 5,
   "metadata": {},
   "outputs": [],
   "source": [
    "fig, (ax1, ax2, ax3) = plt.subplots(1, 3, figsize = (16, 6))\n",
    "\n",
    "sns.countplot(x = \"gender\",hue = \"age_stat\" ,data = df_train, ax = ax1)\n",
    "sns.countplot(x = \"age_stat\", hue = \"mask\", data = train_total, ax = ax2)\n",
    "sns.countplot(x = \"mask\", hue = \"gender\", data = train_total, ax = ax3)"
   ]
  },
  {
   "cell_type": "code",
   "execution_count": 6,
   "metadata": {},
   "outputs": [],
   "source": [
    "# 전체 라벨 분포\n",
    "labels = [0,1,2,3,4,5,6,7,8,9,10,11,12,13,14,15,16,17] ## 라벨\n",
    "\n",
    "class_dict = defaultdict(int)\n",
    "\n",
    "for i in df_train.index:\n",
    "    search = df_train.loc[i]\n",
    "    if search[\"gender\"] == \"male\":\n",
    "        if search[\"age_stat\"] == \"young\":\n",
    "            class_dict[0] += 5\n",
    "            class_dict[12] += 1\n",
    "            class_dict[6] += 1\n",
    "        elif search[\"age_stat\"] == \"middle\":\n",
    "            class_dict[1] += 5\n",
    "            class_dict[13] += 1\n",
    "            class_dict[7] += 1\n",
    "        else:\n",
    "            class_dict[2] += 5\n",
    "            class_dict[14] += 1\n",
    "            class_dict[8] += 1\n",
    "    else:\n",
    "        if search[\"age_stat\"] == \"young\":\n",
    "            class_dict[3] += 5\n",
    "            class_dict[15] += 1\n",
    "            class_dict[9] += 1\n",
    "        elif search[\"age_stat\"] == \"middle\":\n",
    "            class_dict[4] += 5\n",
    "            class_dict[16] += 1\n",
    "            class_dict[10] += 1\n",
    "        else:\n",
    "            class_dict[5] += 5\n",
    "            class_dict[17] += 1\n",
    "            class_dict[11] += 1\n",
    "\n",
    "\n",
    "frequency = [class_dict[0],class_dict[1],class_dict[2],class_dict[3],class_dict[4],\n",
    "            class_dict[5],class_dict[6],class_dict[7],class_dict[8],class_dict[9],\n",
    "            class_dict[10],class_dict[11],class_dict[12],class_dict[13],class_dict[14],\n",
    "            class_dict[15],class_dict[16],class_dict[17]] ## 빈도\n",
    " \n",
    "colors = sns.color_palette('hls',len(labels))\n",
    " \n",
    "fig = plt.figure(figsize=(8,8))\n",
    "fig.set_facecolor('white') ## 캔버스 배경색을 하얀색으로 설정\n",
    "ax = fig.add_subplot() ## 프레임 생성\n",
    " \n",
    "pie = ax.pie(frequency, ## 파이차트 출력\n",
    "       startangle=90, ## 시작점을 90도(degree)로 지정ㅔ\n",
    "       counterclock=False, ## 시계 방향으로 그린다.\n",
    "       autopct=lambda p : '{:.2f}%'.format(p), ## 퍼센티지 출력\n",
    "       colors = colors ## 색상 지정\n",
    "       )\n",
    " \n",
    "plt.legend(pie[0],labels) ## 범례 표시\n",
    "plt.show()"
   ]
  },
  {
   "cell_type": "code",
   "execution_count": 7,
   "metadata": {},
   "outputs": [],
   "source": [
    "import seaborn as sns\n",
    "import matplotlib.pyplot as plt\n",
    "\n",
    "fig, (ax1, ax2) = plt.subplots(1, 2, figsize = (16, 6))\n",
    "\n",
    "colors_nude = [\"#e0798c\", \"#65365a\", \"#da8886\", \"#cfc4c\"]\n",
    "\n",
    "sns.countplot(data = df_train, x = 'race', palette=colors_nude[2:4],ax=ax1)\n",
    "sns.distplot(a = df_train[df_train['gender'] == 'female']['age'], ax=ax2, color= \"#D300B3\", hist=False, rug=True, kde_kws=dict(linewidth=4))\n",
    "sns.distplot(a = df_train[df_train['gender'] == 'male']['age'], ax=ax2, color=\"#00CE11\", hist=False, rug=True,  kde_kws=dict(linewidth=4))\n",
    "ax2.legend(labels=['female','male'])\n",
    "\n",
    "ax1.set_title('race categoty', fontsize=16)\n",
    "ax2.set_title('Age Distribution', fontsize=16)\n",
    "sns.despine(left=True, bottom=True) # 경계선을 없애줌\n",
    "plt.show()"
   ]
  },
  {
   "cell_type": "code",
   "execution_count": 8,
   "metadata": {},
   "outputs": [],
   "source": [
    "import missingno as msno\n",
    "f, (ax1, ax2) = plt.subplots(1, 2, figsize = (16, 6))\n",
    "\n",
    "msno.matrix(df_train, ax = ax1, color=(207/255, 196/255, 171/255), fontsize=10)\n",
    "msno.matrix(df_test, ax = ax2, color=(218/255, 136/255, 130/255), fontsize=10)\n",
    "\n",
    "ax1.set_title('Train Missing Values Map', fontsize = 16)\n",
    "ax2.set_title('Test Missing Values Map', fontsize = 16)"
   ]
  },
  {
   "cell_type": "markdown",
   "metadata": {},
   "source": [
    "# image pixel"
   ]
  },
  {
   "cell_type": "code",
   "execution_count": 14,
   "metadata": {},
   "outputs": [],
   "source": [
    "class cfg:\n",
    "    data_dir = data_dir = '/opt/ml/input/data/train'\n",
    "    img_dir = f'{data_dir}/images'\n",
    "    df_path = f'{data_dir}/train.csv'"
   ]
  },
  {
   "cell_type": "code",
   "execution_count": 15,
   "metadata": {},
   "outputs": [],
   "source": [
    "num2class = ['incorrect_mask', 'mask1', 'mask2', 'mask3',\n",
    "             'mask4', 'mask5', 'normal']\n",
    "class2num = {k: v for v, k in enumerate(num2class)}\n",
    "\n",
    "df = pd.read_csv(cfg.df_path)"
   ]
  },
  {
   "cell_type": "code",
   "execution_count": 16,
   "metadata": {},
   "outputs": [],
   "source": [
    "def get_img_stats(img_dir, img_ids):\n",
    "    \"\"\"\n",
    "    데이터셋에 있는 이미지들의 크기와 RGB 평균 및 표준편차를 수집하는 함수입니다.\n",
    "    \n",
    "    Args:\n",
    "        img_dir: 학습 데이터셋 이미지 폴더 경로 \n",
    "        img_ids: 학습 데이터셋 하위폴더 이름들\n",
    "\n",
    "    Returns:\n",
    "        img_info: 이미지들의 정보 (크기, 평균, 표준편차)\n",
    "    \"\"\"\n",
    "    img_info = dict(heights=[], widths=[], means=[], stds=[])\n",
    "    for img_id in tqdm(img_ids):\n",
    "        for path in glob(os.path.join(img_dir, img_id, '*')):\n",
    "            img = np.array(Image.open(path))\n",
    "            h, w, _ = img.shape\n",
    "            img_info['heights'].append(h)\n",
    "            img_info['widths'].append(w)\n",
    "            img_info['means'].append(img.mean(axis=(0,1)))\n",
    "            img_info['stds'].append(img.std(axis=(0,1)))\n",
    "    return img_info"
   ]
  },
  {
   "cell_type": "code",
   "execution_count": 3,
   "metadata": {},
   "outputs": [],
   "source": [
    "img_info = get_img_stats(cfg.img_dir, df.path.values)\n",
    "\n",
    "print(f'Total number of people is {len(df)}')\n",
    "print(f'Total number of images is {len(df) * 7}')\n",
    "\n",
    "print(f'Minimum height for dataset is {np.min(img_info[\"heights\"])}')\n",
    "print(f'Maximum height for dataset is {np.max(img_info[\"heights\"])}')\n",
    "print(f'Average height for dataset is {int(np.mean(img_info[\"heights\"]))}')\n",
    "print(f'Minimum width for dataset is {np.min(img_info[\"widths\"])}')\n",
    "print(f'Maximum width for dataset is {np.max(img_info[\"widths\"])}')\n",
    "print(f'Average width for dataset is {int(np.mean(img_info[\"widths\"]))}')\n",
    "\n",
    "print(f'RGB Mean: {np.mean(img_info[\"means\"], axis=0) / 255.}')\n",
    "print(f'RGB Standard Deviation: {np.mean(img_info[\"stds\"], axis=0) / 255.}')"
   ]
  },
  {
   "cell_type": "code",
   "execution_count": null,
   "metadata": {},
   "outputs": [],
   "source": []
  }
 ],
 "metadata": {
  "kernelspec": {
   "display_name": "Python 3",
   "language": "python",
   "name": "python3"
  },
  "language_info": {
   "codemirror_mode": {
    "name": "ipython",
    "version": 3
   },
   "file_extension": ".py",
   "mimetype": "text/x-python",
   "name": "python",
   "nbconvert_exporter": "python",
   "pygments_lexer": "ipython3",
   "version": "3.8.3"
  }
 },
 "nbformat": 4,
 "nbformat_minor": 5
}
