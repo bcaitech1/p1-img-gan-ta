{
 "cells": [
  {
   "cell_type": "markdown",
   "metadata": {},
   "source": [
    "## Mixup 구축"
   ]
  },
  {
   "cell_type": "code",
   "execution_count": 88,
   "metadata": {},
   "outputs": [],
   "source": [
    "import cv2\n",
    "from PIL import Image\n",
    "import glob\n",
    "import os\n",
    "def MixUp(img1_path, img2_path, alpha = 0.5):\n",
    "    \"\"\"\n",
    "    image mix up \n",
    "    \n",
    "    Args:\n",
    "        img1_path : image1 path\n",
    "        img2_path : image2 path\n",
    "        \n",
    "    Returns:\n",
    "        im_pil : MixUp img(PIL.Image type)\n",
    "        beta : image1 influence\n",
    "        alpha : image2 influence\n",
    "    \"\"\"\n",
    "    img1 = cv2.imread(img1_path)\n",
    "    img2 = cv2.imread(img2_path)\n",
    "    \n",
    "    beta = 1.0 - alpha\n",
    "    \n",
    "    \n",
    "    dst = cv2.addWeighted(img1, beta, img2, alpha, 0)\n",
    "    img = cv2.cvtColor(dst, cv2.COLOR_BGR2RGB)\n",
    "    \n",
    "    im_pil = Image.fromarray(img)\n",
    "    return im_pil, beta, alpha"
   ]
  },
  {
   "cell_type": "code",
   "execution_count": 89,
   "metadata": {},
   "outputs": [],
   "source": [
    "import sys\n",
    "sys.path.append('/opt/ml/pstage01')\n",
    "from model import models, loss, metric\n",
    "from dataloader import mask\n",
    "from util import meter, transformers, generate"
   ]
  },
  {
   "cell_type": "code",
   "execution_count": 90,
   "metadata": {},
   "outputs": [],
   "source": [
    "root_dir = \"/opt/ml/input/data/\"\n",
    "\n",
    "all_data = sorted(glob.glob(os.path.join(root_dir, 'train', '*', '*', '*')))\n",
    "img_ex, alpha, beta = MixUp(all_data[6+7*699], all_data[3+7*699], 0.2)\n",
    "print(img_ex)\n",
    "img_ex"
   ]
  },
  {
   "cell_type": "code",
   "execution_count": 91,
   "metadata": {},
   "outputs": [],
   "source": [
    "from PIL import Image\n",
    "image = Image.open(\"/opt/ml/input/data/train/images/000001_female_Asian_45/incorrect_mask.jpg\")"
   ]
  },
  {
   "cell_type": "code",
   "execution_count": 1,
   "metadata": {},
   "outputs": [],
   "source": [
    "print(type(image))"
   ]
  },
  {
   "cell_type": "code",
   "execution_count": 93,
   "metadata": {},
   "outputs": [],
   "source": [
    "from io import BytesIO  \n",
    "b = BytesIO()\n",
    "img_ex.save(b, format = \"jpeg\")\n",
    "img_ex2 = Image.open(b)\n",
    "print(type(img_ex2))\n",
    "img_ex2"
   ]
  },
  {
   "cell_type": "code",
   "execution_count": 94,
   "metadata": {},
   "outputs": [],
   "source": [
    "root_dir = \"/opt/ml/input/data/\"\n",
    "\n",
    "all_data = sorted(glob.glob(os.path.join(root_dir, 'train', '*', '*', '*')))\n",
    "img_ex, alpha, beta = generate.mix_up(all_data[6+7*699], all_data[3+7*699], 0.5)\n",
    "img_ex"
   ]
  },
  {
   "cell_type": "markdown",
   "metadata": {},
   "source": [
    "## cutmix 구현해보기"
   ]
  },
  {
   "cell_type": "code",
   "execution_count": 95,
   "metadata": {},
   "outputs": [],
   "source": [
    "import glob\n",
    "import numpy as np\n",
    "import matplotlib.pyplot as plt\n",
    "import cv2"
   ]
  },
  {
   "cell_type": "code",
   "execution_count": 96,
   "metadata": {},
   "outputs": [],
   "source": [
    "root_dir = \"/opt/ml/input/data/\"\n",
    "\n",
    "filenames = sorted(glob.glob(os.path.join(root_dir, 'train', '*', '*', '*')))"
   ]
  },
  {
   "cell_type": "code",
   "execution_count": 97,
   "metadata": {},
   "outputs": [],
   "source": [
    "# image_paths = filenames[:10]\n",
    "\n",
    "# # Display a sample image\n",
    "# plt.imshow(cv2.cvtColor(cv2.imread(image_paths[0]), cv2.COLOR_BGR2RGB)); plt.show();"
   ]
  },
  {
   "cell_type": "code",
   "execution_count": 1,
   "metadata": {},
   "outputs": [],
   "source": [
    "print(type(cv2.imread(image_paths[0]))) # cv2.imread는 이미지 파일을 numpy로 읽는구나"
   ]
  },
  {
   "cell_type": "code",
   "execution_count": 99,
   "metadata": {},
   "outputs": [],
   "source": [
    "image_batch = []\n",
    "image_batch_labels = []\n",
    "\n",
    "n_images = 2\n",
    "\n",
    "for i in range(n_images):\n",
    "    image = cv2.cvtColor(cv2.imread(image_paths[i]), cv2.COLOR_BGR2RGB)\n",
    "    image_batch.append(image)\n",
    "    \n",
    "    label_temp = list(np.floor(np.random.rand(1)*2.99).astype(int))[0]\n",
    "    if label_temp == 0:\n",
    "        label = [1,0,0]\n",
    "    elif label_temp == 1:\n",
    "        label = [0,1,0]\n",
    "    else: # label_temp == 2\n",
    "        label = [0,0,1]\n",
    "    \n",
    "    image_batch_labels.append(label)"
   ]
  },
  {
   "cell_type": "code",
   "execution_count": 101,
   "metadata": {},
   "outputs": [],
   "source": [
    "image_batch = np.array(image_batch) # 행렬화 된"
   ]
  },
  {
   "cell_type": "code",
   "execution_count": 102,
   "metadata": {},
   "outputs": [],
   "source": [
    "image_batch_labels = np.array(image_batch_labels)"
   ]
  },
  {
   "cell_type": "code",
   "execution_count": 2,
   "metadata": {},
   "outputs": [],
   "source": [
    "image_batch_labels"
   ]
  },
  {
   "cell_type": "code",
   "execution_count": 1,
   "metadata": {},
   "outputs": [],
   "source": [
    "print()\n",
    "print(f\"Image labels: {image_batch_labels}\\n\")"
   ]
  },
  {
   "cell_type": "code",
   "execution_count": 105,
   "metadata": {},
   "outputs": [],
   "source": [
    "for i in range(1):\n",
    "    for j in range(2):\n",
    "        plt.subplot(1,2,2*i+j+1)\n",
    "        plt.imshow(image_batch[2*i+j])\n",
    "plt.show()"
   ]
  },
  {
   "cell_type": "code",
   "execution_count": 106,
   "metadata": {},
   "outputs": [],
   "source": [
    "def rand_bbox(size, lamb):\n",
    "    \"\"\" \n",
    "    구역 분할해주는 함수\n",
    "    \"\"\"\n",
    "    W = size[0]\n",
    "    H = size[1]\n",
    "    cut_rat = np.sqrt(1. - lamb)\n",
    "    cut_w = np.int(W * cut_rat)\n",
    "    cut_h = np.int(H * cut_rat)\n",
    "\n",
    "    # uniform\n",
    "    cx = np.random.randint(W)\n",
    "    cy = np.random.randint(H)\n",
    "\n",
    "    bbx1 = np.clip(cx - cut_w // 2, 0, W)\n",
    "    bby1 = np.clip(cy - cut_h // 2, 0, H)\n",
    "    bbx2 = np.clip(cx + cut_w // 2, 0, W)\n",
    "    bby2 = np.clip(cy + cut_h // 2, 0, H)\n",
    "\n",
    "    return bbx1, bby1, bbx2, bby2"
   ]
  },
  {
   "cell_type": "code",
   "execution_count": 114,
   "metadata": {},
   "outputs": [],
   "source": [
    "image = cv2.cvtColor(cv2.imread(image_paths[0]), cv2.COLOR_BGR2RGB)\n",
    "\n",
    "lamb = 0.3\n",
    "size = image.shape\n",
    "print(\"size : \", size)\n",
    "bbox = rand_bbox(size, lamb)\n",
    "\n",
    "print(bbox[0],bbox[1],bbox[2],bbox[3])\n",
    "\n",
    "# Draw bounding box on the image\n",
    "im = image.copy()\n",
    "x1 = bbox[0]\n",
    "y1 = bbox[1]\n",
    "x2 = bbox[2]\n",
    "y2 = bbox[3]\n",
    "cv2.rectangle(im, (x1, y1), (x2, y2), (255, 0, 0), 3) # 사각형 그리기\n",
    "plt.imshow(im);\n",
    "plt.title('Original image with random bounding box')\n",
    "plt.show();\n",
    "\n",
    "# Show cropped image\n",
    "plt.imshow(image[y1:y2, x1:x2]);\n",
    "plt.title('Cropped image')\n",
    "plt.show()"
   ]
  },
  {
   "cell_type": "code",
   "execution_count": 108,
   "metadata": {},
   "outputs": [],
   "source": [
    "def generate_cutmix_image(image_batch, image_batch_labels, beta):\n",
    "    \"\"\"\n",
    "    cutmix generator\n",
    "    \"\"\"\n",
    "    \n",
    "    # 이거는 예시로 \n",
    "    lam = np.random.beta(beta, beta)\n",
    "    rand_index = np.random.permutation(len(image_batch))\n",
    "    target_a = image_batch_labels\n",
    "    target_b = image_batch_labels[rand_index]\n",
    "    bbx1, bby1, bbx2, bby2 = rand_bbox(image_batch[0].shape, lam)\n",
    "    image_batch_updated = image_batch.copy()\n",
    "    image_batch_updated[:, bbx1:bbx2, bby1:bby2, :] = image_batch[rand_index, bbx1:bbx2, bby1:bby2, :]\n",
    "    \n",
    "    # 비율 다시 맞춰줌\n",
    "    lam = 1 - ((bbx2 - bbx1) * (bby2 - bby1) / (image_batch.shape[1] * image_batch.shape[2]))\n",
    "    \n",
    "    # lam으로 loss 비율 맞춰줌\n",
    "    label = target_a * lam + target_b * (1. - lam)  # 라벨 가중치 부여 \n",
    "    \n",
    "    \n",
    "    return image_batch_updated, label\n",
    "    "
   ]
  },
  {
   "cell_type": "code",
   "execution_count": 109,
   "metadata": {},
   "outputs": [],
   "source": [
    "input_image = image_batch[0]\n",
    "image_batch_updated, lam = generate.cut_mix(image_batch, 1.0)"
   ]
  },
  {
   "cell_type": "code",
   "execution_count": 112,
   "metadata": {},
   "outputs": [],
   "source": [
    "image_batch_updated[0]"
   ]
  },
  {
   "cell_type": "code",
   "execution_count": 113,
   "metadata": {},
   "outputs": [],
   "source": [
    "image_batch_updated[1]"
   ]
  },
  {
   "cell_type": "code",
   "execution_count": null,
   "metadata": {},
   "outputs": [],
   "source": []
  }
 ],
 "metadata": {
  "kernelspec": {
   "display_name": "Python 3",
   "language": "python",
   "name": "python3"
  },
  "language_info": {
   "codemirror_mode": {
    "name": "ipython",
    "version": 3
   },
   "file_extension": ".py",
   "mimetype": "text/x-python",
   "name": "python",
   "nbconvert_exporter": "python",
   "pygments_lexer": "ipython3",
   "version": "3.8.3"
  }
 },
 "nbformat": 4,
 "nbformat_minor": 5
}
